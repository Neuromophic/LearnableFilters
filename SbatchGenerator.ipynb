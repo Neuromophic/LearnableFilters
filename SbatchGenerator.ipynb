{
 "cells": [
  {
   "cell_type": "code",
   "execution_count": 7,
   "id": "ef292e84-6753-4a3a-afbc-838b88099bb1",
   "metadata": {
    "tags": []
   },
   "outputs": [],
   "source": [
    "with open(f'run_baseline_pNN.sh', 'w') as f:\n",
    "    for ds in range(15):\n",
    "        line = f'sbatch exp_baseline_pNN.py --DATASET {ds} --task temporal --loss temporal --metric temporized_acc --projectname Baseline\\n'\n",
    "        f.write(line)"
   ]
  },
  {
   "cell_type": "code",
   "execution_count": 8,
   "id": "25924dc6",
   "metadata": {
    "tags": []
   },
   "outputs": [],
   "source": [
    "with open(f'run_baseline_SNN.sh', 'w') as f:\n",
    "    for ds in range(15):\n",
    "        line = f'sbatch exp_baseline_SNN.py --DATASET {ds} --task temporal --loss temporal --metric nominal_snn --projectname Baseline\\n'\n",
    "        f.write(line)"
   ]
  },
  {
   "cell_type": "code",
   "execution_count": 1,
   "id": "1f0f5288",
   "metadata": {
    "tags": []
   },
   "outputs": [],
   "source": [
    "with open(f'run_baseline_RNN.sh', 'w') as f:\n",
    "    for ds in range(15):\n",
    "        line = f'sbatch exp_baseline_RNN.py --DATASET {ds} --task temporal --loss celoss --metric acc --LR 0.01 --projectname Baseline\\n'\n",
    "        f.write(line)"
   ]
  },
  {
   "cell_type": "code",
   "execution_count": 10,
   "id": "c56f5190",
   "metadata": {
    "tags": []
   },
   "outputs": [],
   "source": [
    "with open(f'run_LearnableFilter.sh', 'w') as f:\n",
    "    for ds in range(15):\n",
    "        for seed in range(10):\n",
    "            line = f'sbatch exp_LearnableFilters.py --DATASET {ds} --SEED {seed} --task temporal --loss celoss --metric temporal_acc --projectname LearnableFilters\\n'\n",
    "            f.write(line)"
   ]
  },
  {
   "cell_type": "code",
   "execution_count": null,
   "id": "df72b46d-b71c-4aff-956b-44ebf819d48f",
   "metadata": {},
   "outputs": [],
   "source": []
  }
 ],
 "metadata": {
  "kernelspec": {
   "display_name": "pNN",
   "language": "python",
   "name": "pnn"
  },
  "language_info": {
   "codemirror_mode": {
    "name": "ipython",
    "version": 3
   },
   "file_extension": ".py",
   "mimetype": "text/x-python",
   "name": "python",
   "nbconvert_exporter": "python",
   "pygments_lexer": "ipython3",
   "version": "3.9.16"
  }
 },
 "nbformat": 4,
 "nbformat_minor": 5
}
