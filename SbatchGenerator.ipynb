{
 "cells": [
  {
   "cell_type": "code",
   "execution_count": 3,
   "id": "ef292e84-6753-4a3a-afbc-838b88099bb1",
   "metadata": {
    "tags": []
   },
   "outputs": [],
   "source": [
    "with open(f'run_baseline_pNN.sh', 'w') as f:\n",
    "    for seed in range(10):\n",
    "        line = f'sbatch exp_baseline_pNN.py --SEED {seed} --task temporal --loss temporal --metric temporized_acc --projectname Baseline\\n'\n",
    "        f.write(line)"
   ]
  },
  {
   "cell_type": "code",
   "execution_count": 4,
   "id": "25924dc6",
   "metadata": {},
   "outputs": [],
   "source": [
    "with open(f'run_baseline_SNN.sh', 'w') as f:\n",
    "    for seed in range(10):\n",
    "        line = f'sbatch exp_baseline_SNN.py --SEED {seed} --task temporal --loss temporal --metric nominal_snn --projectname Baseline\\n'\n",
    "        f.write(line)"
   ]
  },
  {
   "cell_type": "code",
   "execution_count": 1,
   "id": "1f0f5288",
   "metadata": {
    "tags": []
   },
   "outputs": [],
   "source": [
    "with open(f'run_baseline_RNN.sh', 'w') as f:\n",
    "    for seed in range(10):\n",
    "        line = f'sbatch exp_baseline_RNN.py --SEED {seed} --task temporal --loss celoss --metric acc --projectname Baseline\\n'\n",
    "        f.write(line)"
   ]
  },
  {
   "cell_type": "code",
   "execution_count": 2,
   "id": "c56f5190",
   "metadata": {
    "tags": []
   },
   "outputs": [],
   "source": [
    "with open(f'run_LearnableFilter.sh', 'w') as f:\n",
    "    for seed in range(10):\n",
    "        line = f'sbatch exp_LearnableFilters.py --SEED {seed} --task temporal --loss celoss --metric temporal_acc --projectname LearnableFilters\\n'\n",
    "        f.write(line)"
   ]
  },
  {
   "cell_type": "code",
   "execution_count": 3,
   "id": "24867855",
   "metadata": {
    "tags": []
   },
   "outputs": [],
   "source": [
    "with open(f'run_LearnableFilter1.sh', 'w') as f:\n",
    "    for seed in range(10):\n",
    "        line = f'sbatch exp_LearnableFilters.py --SEED {seed} --task temporal --loss celoss --metric temporal_acc --LR 0.1 --projectname LearnableFiltersL1\\n'\n",
    "        f.write(line)"
   ]
  },
  {
   "cell_type": "code",
   "execution_count": 4,
   "id": "50007a3a-445d-40c6-8c04-3f675e442200",
   "metadata": {
    "tags": []
   },
   "outputs": [],
   "source": [
    "with open(f'run_LearnableFilter2.sh', 'w') as f:\n",
    "    for seed in range(10):\n",
    "        line = f'sbatch exp_LearnableFilters.py --SEED {seed} --task temporal --loss celoss --metric temporal_acc --LR 0.001 --projectname LearnableFiltersL2\\n'\n",
    "        f.write(line)"
   ]
  },
  {
   "cell_type": "code",
   "execution_count": 5,
   "id": "c085718c-abd2-431c-8218-da7450923e22",
   "metadata": {
    "tags": []
   },
   "outputs": [],
   "source": [
    "with open(f'run_LearnableFilter3.sh', 'w') as f:\n",
    "    for seed in range(10):\n",
    "        line = f'sbatch exp_LearnableFilters.py --SEED {seed} --task temporal --loss celoss --metric temporal_acc --LR 0.005 --projectname LearnableFiltersL3\\n'\n",
    "        f.write(line)"
   ]
  },
  {
   "cell_type": "code",
   "execution_count": 1,
   "id": "0f7e2fc2-917b-4ba8-809e-8b3e2cafc93d",
   "metadata": {},
   "outputs": [],
   "source": [
    "with open('evaluation_power.sh', 'w') as f:\n",
    "    for ds in range(13):\n",
    "        line = f'sbatch evaluation.py --DATASET {ds}  --DEVICE cpu\\n'\n",
    "        f.write(line)"
   ]
  },
  {
   "cell_type": "code",
   "execution_count": null,
   "id": "e188da6b-5565-4214-bfef-3043bc85b4b7",
   "metadata": {},
   "outputs": [],
   "source": []
  }
 ],
 "metadata": {
  "kernelspec": {
   "display_name": "pNN",
   "language": "python",
   "name": "pnn"
  },
  "language_info": {
   "codemirror_mode": {
    "name": "ipython",
    "version": 3
   },
   "file_extension": ".py",
   "mimetype": "text/x-python",
   "name": "python",
   "nbconvert_exporter": "python",
   "pygments_lexer": "ipython3",
   "version": "3.9.16"
  }
 },
 "nbformat": 4,
 "nbformat_minor": 5
}
