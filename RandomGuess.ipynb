{
 "cells": [
  {
   "cell_type": "code",
   "execution_count": 1,
   "metadata": {},
   "outputs": [],
   "source": [
    "import os\n",
    "import sys\n",
    "sys.path.append(os.getcwd())\n",
    "sys.path.append(os.path.join(os.getcwd(), 'utils'))\n",
    "from configuration import *\n",
    "import torch\n",
    "from utils import *\n",
    "import numpy as np\n",
    "args = parser.parse_args([])\n",
    "args.task = 'temporal'\n",
    "\n",
    "RandomGuess = []\n",
    "for ds in range(15):\n",
    "    args.DATASET = ds\n",
    "    \n",
    "\n",
    "    train_loader, datainfo = GetDataLoader(args, 'train')\n",
    "    valid_loader, datainfo = GetDataLoader(args, 'valid')\n",
    "    test_loader, datainfo = GetDataLoader(args, 'test')\n",
    "    \n",
    "\n",
    "    for i, j in train_loader:\n",
    "        x, y = i, j\n",
    "\n",
    "    counts = torch.bincount(y)\n",
    "    most_common = torch.argmax(counts)\n",
    "    frequency = torch.max(counts)\n",
    "\n",
    "    for i, j in valid_loader:\n",
    "        x, y = i, j\n",
    "    \n",
    "    correct = (y == most_common).sum().item()\n",
    "    RandomGuess.append(correct / len(y))"
   ]
  },
  {
   "cell_type": "code",
   "execution_count": 2,
   "id": "d5ba1340",
   "metadata": {},
   "outputs": [],
   "source": [
    "np.savetxt(f\"./RandomGuess_acc.txt\", np.array(RandomGuess), delimiter=\"\\t\", fmt='%.5f')"
   ]
  },
  {
   "cell_type": "code",
   "execution_count": null,
   "id": "fe6cab37",
   "metadata": {},
   "outputs": [],
   "source": []
  }
 ],
 "metadata": {
  "kernelspec": {
   "display_name": "ML",
   "language": "python",
   "name": "ml"
  },
  "language_info": {
   "codemirror_mode": {
    "name": "ipython",
    "version": 3
   },
   "file_extension": ".py",
   "mimetype": "text/x-python",
   "name": "python",
   "nbconvert_exporter": "python",
   "pygments_lexer": "ipython3",
   "version": "3.8.13"
  }
 },
 "nbformat": 4,
 "nbformat_minor": 5
}
